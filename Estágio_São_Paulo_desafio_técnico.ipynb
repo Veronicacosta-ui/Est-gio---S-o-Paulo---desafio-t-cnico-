{
  "nbformat": 4,
  "nbformat_minor": 0,
  "metadata": {
    "colab": {
      "provenance": []
    },
    "kernelspec": {
      "name": "python3",
      "display_name": "Python 3"
    },
    "language_info": {
      "name": "python"
    }
  },
  "cells": [
    {
      "cell_type": "markdown",
      "source": [
        "##**Estágio - São Paulo** - desafio técnico:\n",
        "\n"
      ],
      "metadata": {
        "id": "h1LpYhbdCugS"
      }
    },
    {
      "cell_type": "markdown",
      "source": [
        "1) Observe o trecho de código abaixo: int INDICE = 13, SOMA = 0, K = 0;\n",
        "Enquanto K < INDICE faça { K = K + 1; SOMA = SOMA + K; }\n",
        "Imprimir(SOMA);\n",
        "Ao final do processamento, qual será o valor da variável SOMA?"
      ],
      "metadata": {
        "id": "AgYg9a2lDclU"
      }
    },
    {
      "cell_type": "code",
      "source": [
        "INDICE = 13\n",
        "SOMA = 0\n",
        "\n",
        "for K in range(1, INDICE + 1):\n",
        "    SOMA += K\n",
        "\n",
        "print(SOMA)"
      ],
      "metadata": {
        "colab": {
          "base_uri": "https://localhost:8080/"
        },
        "id": "ezFIxQQrDd5O",
        "outputId": "9416259f-d531-4661-d4ae-4ce527584f57"
      },
      "execution_count": 1,
      "outputs": [
        {
          "output_type": "stream",
          "name": "stdout",
          "text": [
            "91\n"
          ]
        }
      ]
    },
    {
      "cell_type": "markdown",
      "source": [
        "2) Dado a sequência de Fibonacci, onde se inicia por 0 e 1 e o próximo valor sempre será a soma dos 2 valores anteriores (exemplo: 0, 1, 1, 2, 3, 5, 8, 13, 21, 34...), escreva um programa na linguagem que desejar onde, informado um número, ele calcule a sequência de Fibonacci e retorne uma mensagem avisando se o número informado pertence ou não a sequência."
      ],
      "metadata": {
        "id": "wI0U4UhxEUi-"
      }
    },
    {
      "cell_type": "code",
      "source": [
        "def pertence_fibonacci(numero):\n",
        "    \"\"\"Verifica se um número pertence à sequência de Fibonacci.\n",
        "\n",
        "    Args:\n",
        "        numero: O número a ser verificado.\n",
        "\n",
        "    Returns:\n",
        "        True se o número pertence à sequência, False caso contrário.\n",
        "    \"\"\"\n",
        "\n",
        "    a, b = 0, 1\n",
        "    while b <= numero:\n",
        "        if b == numero:\n",
        "            return True\n",
        "        a, b = b, a + b\n",
        "    return False\n",
        "\n",
        "# Solicita o número ao usuário\n",
        "num = int(input(\"Digite um número: \"))\n",
        "\n",
        "# Verifica se o número pertence à sequência e imprime o resultado\n",
        "if pertence_fibonacci(num):\n",
        "    print(f\"O número {num} pertence à sequência de Fibonacci.\")\n",
        "else:\n",
        "    print(f\"O número {num} não pertence à sequência 1  de Fibonacci.\")"
      ],
      "metadata": {
        "colab": {
          "base_uri": "https://localhost:8080/"
        },
        "id": "zhDtu2_hEX2u",
        "outputId": "9ce78542-cb66-4103-846f-9965a9dd1f53"
      },
      "execution_count": 7,
      "outputs": [
        {
          "output_type": "stream",
          "name": "stdout",
          "text": [
            "Digite um número: 2\n",
            "O número 2 pertence à sequência de Fibonacci.\n"
          ]
        }
      ]
    },
    {
      "cell_type": "markdown",
      "source": [
        "3) Dado um vetor que guarda o valor de faturamento diário de uma distribuidora, faça um programa, na linguagem que desejar, que calcule e retorne:\n",
        "• O menor valor de faturamento ocorrido em um dia do mês;\n",
        "• O maior valor de faturamento ocorrido em um dia do mês;\n",
        "• Número de dias no mês em que o valor de faturamento diário foi superior à média mensal."
      ],
      "metadata": {
        "id": "9EA6DHWFFNq-"
      }
    },
    {
      "cell_type": "code",
      "source": [
        "import json"
      ],
      "metadata": {
        "id": "JdhqpwfpFOss"
      },
      "execution_count": 9,
      "outputs": []
    },
    {
      "cell_type": "code",
      "source": [
        "import json\n",
        "\n",
        "def analisar_faturamento():\n",
        "    \"\"\"Analisa os dados de faturamento a partir de uma string JSON.\n",
        "\n",
        "    Returns:\n",
        "        Uma tupla com o menor valor de faturamento, o maior valor de faturamento e o número de dias com faturamento acima da média.\n",
        "    \"\"\"\n",
        "\n",
        "    dados_json = \"\"\"\n",
        "    [\n",
        "        {\"dia\": 1, \"valor\": 1000},\n",
        "        {\"dia\": 2, \"valor\": 1500},\n",
        "        {\"dia\": 3, \"valor\": 0},\n",
        "        {\"dia\": 4, \"valor\": 2000},\n",
        "        {\"dia\": 5, \"valor\": 1800},\n",
        "        {\"dia\": 6, \"valor\": 0},\n",
        "        {\"dia\": 7, \"valor\": 2200}\n",
        "    ]\n",
        "    \"\"\"\n",
        "\n",
        "    dados = json.loads(dados_json)\n",
        "\n",
        "    faturamentos = [dado['valor'] for dado in dados if dado['valor'] > 0]\n",
        "    if not faturamentos:\n",
        "        return None, None, 0\n",
        "\n",
        "    media = sum(faturamentos) / len(faturamentos)\n",
        "    menor_valor = min(faturamentos)\n",
        "    maior_valor = max(faturamentos)\n",
        "    dias_acima_media = len([valor for valor in faturamentos if valor > media])\n",
        "\n",
        "    return menor_valor, maior_valor, dias_acima_media\n",
        "\n",
        "# Analisar os dados e imprimir os resultados\n",
        "menor, maior, dias_acima = analisar_faturamento()\n",
        "if menor is not None:\n",
        "    print(f\"Menor valor de faturamento: R$ {menor:.2f}\")\n",
        "    print(f\"Maior valor de faturamento: R$ {maior:.2f}\")\n",
        "    print(f\"Número de dias com faturamento acima da média: {dias_acima}\")\n",
        "else:\n",
        "    print(\"Não há dados de faturamento válidos.\")"
      ],
      "metadata": {
        "colab": {
          "base_uri": "https://localhost:8080/"
        },
        "id": "3WWW72VlF0HN",
        "outputId": "3d8314c1-d3c7-4410-e349-5a8b3b325624"
      },
      "execution_count": 13,
      "outputs": [
        {
          "output_type": "stream",
          "name": "stdout",
          "text": [
            "Menor valor de faturamento: R$ 1000.00\n",
            "Maior valor de faturamento: R$ 2200.00\n",
            "Número de dias com faturamento acima da média: 3\n"
          ]
        }
      ]
    },
    {
      "cell_type": "markdown",
      "source": [
        "4) Dado o valor de faturamento mensal de uma distribuidora, detalhado por estado:\n",
        "• SP – R$67.836,43\n",
        "\n",
        "• RJ – R$36.678,66\n",
        "\n",
        "• MG – R$29.229,88\n",
        "\n",
        "• ES – R$27.165,48\n",
        "\n",
        "• Outros – R$19.849,53"
      ],
      "metadata": {
        "id": "LyJJuNOFIfSI"
      }
    },
    {
      "cell_type": "code",
      "source": [
        "import matplotlib.pyplot as plt\n",
        "\n",
        "# Dados de faturamento por estado\n",
        "faturamento_por_estado = {\n",
        "    'SP': 67836.43,\n",
        "    'RJ': 36678.66,\n",
        "    'MG': 29229.88,\n",
        "    'ES': 27165.48,\n",
        "    'Outros': 19849.53\n",
        "}\n",
        "\n",
        "# Função para calcular o faturamento total\n",
        "def calcular_faturamento_total(faturamento):\n",
        "    return sum(faturamento.values())\n",
        "\n",
        "# Função para calcular a participação percentual de cada estado\n",
        "def calcular_participacao_percentual(faturamento):\n",
        "    faturamento_total = sum(faturamento.values())\n",
        "    participacao = {}\n",
        "    for estado, valor in faturamento.items():\n",
        "        participacao[estado] = (valor / faturamento_total) * 100\n",
        "    return participacao\n",
        "\n",
        "# Função para criar um gráfico de pizza\n",
        "def criar_grafico_pizza(faturamento):\n",
        "    plt.pie(faturamento.values(), labels=faturamento.keys(), autopct='%1.1f%%')\n",
        "    plt.title('Distribuição do Faturamento por Estado')\n",
        "    plt.show()\n",
        "\n",
        "# Calculando o faturamento total\n",
        "faturamento_total = calcular_faturamento_total(faturamento_por_estado)\n",
        "print(f\"O faturamento total foi de R$ {faturamento_total:.2f}\")\n",
        "\n",
        "# Calculando a participação percentual de cada estado\n",
        "participacao = calcular_participacao_percentual(faturamento_por_estado)\n",
        "print(\"Participação percentual de cada estado:\")\n",
        "for estado, percentual in participacao.items():\n",
        "    print(f\"{estado}: {percentual:.2f}%\")\n",
        "\n",
        "# Criando um gráfico de pizza\n",
        "criar_grafico_pizza(faturamento_por_estado)"
      ],
      "metadata": {
        "colab": {
          "base_uri": "https://localhost:8080/",
          "height": 549
        },
        "id": "lnezjSiNIkgb",
        "outputId": "56dc4994-9c38-484a-96c2-717562eed47a"
      },
      "execution_count": 17,
      "outputs": [
        {
          "output_type": "stream",
          "name": "stdout",
          "text": [
            "O faturamento total foi de R$ 180759.98\n",
            "Participação percentual de cada estado:\n",
            "SP: 37.53%\n",
            "RJ: 20.29%\n",
            "MG: 16.17%\n",
            "ES: 15.03%\n",
            "Outros: 10.98%\n"
          ]
        },
        {
          "output_type": "display_data",
          "data": {
            "text/plain": [
              "<Figure size 640x480 with 1 Axes>"
            ],
            "image/png": "[encoded data removed]"
          },
          "metadata": {}
        }
      ]
    },
    {
      "cell_type": "markdown",
      "source": [
        "5) Escreva um programa que inverta os caracteres de um string."
      ],
      "metadata": {
        "id": "aEfuq4RdKH7k"
      }
    },
    {
      "cell_type": "code",
      "source": [
        "def inverter_string(string):\n",
        "    \"\"\"Inverte os caracteres de uma string.\n",
        "\n",
        "    Args:\n",
        "        string: A string a ser invertida.\n",
        "\n",
        "    Returns:\n",
        "        A string invertida.\n",
        "    \"\"\"\n",
        "\n",
        "    string_invertida = \"\"\n",
        "    for i in range(len(string) - 1, -1, -1):\n",
        "        string_invertida += string[i]\n",
        "    return string_invertida\n",
        "\n",
        "# Exemplo de uso:\n",
        "string_original = \"Python é incrível!\"\n",
        "string_invertida = inverter_string(string_original)\n",
        "print(string_invertida)  # Saída: !cílvere é nohtyP"
      ],
      "metadata": {
        "colab": {
          "base_uri": "https://localhost:8080/"
        },
        "id": "qUO_EfUaKIfQ",
        "outputId": "c42fd065-8701-4422-d14e-22ba3e73ed66"
      },
      "execution_count": 18,
      "outputs": [
        {
          "output_type": "stream",
          "name": "stdout",
          "text": [
            "!levírcni é nohtyP\n"
          ]
        }
      ]
    },
    {
      "cell_type": "code",
      "source": [
        "from google.colab import drive\n",
        "drive.mount('/content/drive')"
      ],
      "metadata": {
        "id": "sDhGn0ASKmww"
      },
      "execution_count": null,
      "outputs": []
    }
  ]
}